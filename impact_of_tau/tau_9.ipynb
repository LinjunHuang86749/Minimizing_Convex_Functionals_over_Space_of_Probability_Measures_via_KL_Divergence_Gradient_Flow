{
  "cells": [
    {
      "cell_type": "code",
      "execution_count": 1,
      "metadata": {
        "id": "cktzMYGRvRxW"
      },
      "outputs": [],
      "source": [
        "each_mirror_step_gen_theta_size = 5000\n",
        "given_data_size = 1000\n",
        "eta = 1 ###################################################\n",
        "total_trial_num = 1        # num trial\n",
        "n_max_mirror_iterations=50       # num mirror steps\n",
        "patient_max = 200           # max patient\n",
        "patient_max_mirror = 5\n",
        "stopping_norm = 1e-4\n",
        "num_samples = 1000         # number of theta generated\n",
        "verbose = True\n",
        "\n",
        "pretrain_factor = 1\n",
        "control_factor_1 = 1\n",
        "outer_lr_final_factor = 1e0\n",
        "outer_eta_final_factor = 1e0\n",
        "import math\n",
        "outer_lr_factor = pow(math.e, math.log(outer_lr_final_factor)/n_max_mirror_iterations)\n",
        "outer_eta_factor = pow(math.e, math.log(outer_eta_final_factor)/n_max_mirror_iterations)"
      ]
    },
    {
      "cell_type": "code",
      "execution_count": 2,
      "metadata": {
        "id": "o1tMGeAVeztY",
        "colab": {
          "base_uri": "https://localhost:8080/"
        },
        "outputId": "c4adb07b-0fed-43ac-9a02-c32631e8202a"
      },
      "outputs": [
        {
          "output_type": "stream",
          "name": "stdout",
          "text": [
            "Collecting normflows\n",
            "  Downloading normflows-1.7.2.tar.gz (64 kB)\n",
            "\u001b[?25l     \u001b[90m━━━━━━━━━━━━━━━━━━━━━━━━━━━━━━━━━━━━━━━━\u001b[0m \u001b[32m0.0/64.8 kB\u001b[0m \u001b[31m?\u001b[0m eta \u001b[36m-:--:--\u001b[0m\r\u001b[2K     \u001b[90m━━━━━━━━━━━━━━━━━━━━━━━━━━━━━━━━━━━━━━━━\u001b[0m \u001b[32m64.8/64.8 kB\u001b[0m \u001b[31m1.7 MB/s\u001b[0m eta \u001b[36m0:00:00\u001b[0m\n",
            "\u001b[?25h  Preparing metadata (setup.py) ... \u001b[?25l\u001b[?25hdone\n",
            "Requirement already satisfied: numpy in /usr/local/lib/python3.10/dist-packages (from normflows) (1.23.5)\n",
            "Requirement already satisfied: torch in /usr/local/lib/python3.10/dist-packages (from normflows) (2.1.0+cu118)\n",
            "Requirement already satisfied: filelock in /usr/local/lib/python3.10/dist-packages (from torch->normflows) (3.12.4)\n",
            "Requirement already satisfied: typing-extensions in /usr/local/lib/python3.10/dist-packages (from torch->normflows) (4.5.0)\n",
            "Requirement already satisfied: sympy in /usr/local/lib/python3.10/dist-packages (from torch->normflows) (1.12)\n",
            "Requirement already satisfied: networkx in /usr/local/lib/python3.10/dist-packages (from torch->normflows) (3.2)\n",
            "Requirement already satisfied: jinja2 in /usr/local/lib/python3.10/dist-packages (from torch->normflows) (3.1.2)\n",
            "Requirement already satisfied: fsspec in /usr/local/lib/python3.10/dist-packages (from torch->normflows) (2023.6.0)\n",
            "Requirement already satisfied: triton==2.1.0 in /usr/local/lib/python3.10/dist-packages (from torch->normflows) (2.1.0)\n",
            "Requirement already satisfied: MarkupSafe>=2.0 in /usr/local/lib/python3.10/dist-packages (from jinja2->torch->normflows) (2.1.3)\n",
            "Requirement already satisfied: mpmath>=0.19 in /usr/local/lib/python3.10/dist-packages (from sympy->torch->normflows) (1.3.0)\n",
            "Building wheels for collected packages: normflows\n",
            "  Building wheel for normflows (setup.py) ... \u001b[?25l\u001b[?25hdone\n",
            "  Created wheel for normflows: filename=normflows-1.7.2-py2.py3-none-any.whl size=86917 sha256=8930940a0d67c793053df5d5ac7a433b599c8d1ffa65ac125dad45e0a84363cd\n",
            "  Stored in directory: /root/.cache/pip/wheels/8a/a4/89/3e09f53a561355c45eccfebeffc07a0e34d36a3f41e3ef68a3\n",
            "Successfully built normflows\n",
            "Installing collected packages: normflows\n",
            "Successfully installed normflows-1.7.2\n"
          ]
        }
      ],
      "source": [
        "!pip install normflows"
      ]
    },
    {
      "cell_type": "code",
      "execution_count": 3,
      "metadata": {
        "id": "BTGAsyICe9iB"
      },
      "outputs": [],
      "source": [
        "# Import required packages\n",
        "import torch\n",
        "import numpy as np\n",
        "import normflows as nf\n",
        "import os\n",
        "import numpy as np\n",
        "from matplotlib import pyplot as plt\n",
        "from tqdm import tqdm\n",
        "from IPython.display import clear_output\n",
        "import torch.nn.functional as F\n",
        "import torch.distributions as TD\n",
        "import pandas as pd\n",
        "import seaborn as sb\n",
        "import torch.nn as nn\n",
        "import shutil\n",
        "import gc\n",
        "import copy\n",
        "import time\n",
        "from scipy.optimize import linear_sum_assignment\n",
        "from scipy.stats import multivariate_t"
      ]
    },
    {
      "cell_type": "code",
      "execution_count": 4,
      "metadata": {
        "id": "UD4fG8tffElv"
      },
      "outputs": [],
      "source": [
        "torch.manual_seed(114514)\n",
        "# Move model on GPU if available\n",
        "enable_cuda = True\n",
        "device = torch.device('cuda' if torch.cuda.is_available() and enable_cuda else 'cpu')\n",
        "sampled_theta_m = nf.distributions.CircularGaussianMixture(n_modes=4) # nf.distributions.TwoMoons().to(device)\n",
        "\n",
        "cov_mx = control_factor_1*torch.tensor([[1, 0], [0, 1.]], dtype=torch.double).to(device)\n"
      ]
    },
    {
      "cell_type": "code",
      "execution_count": 5,
      "metadata": {
        "id": "K9m9XC-GfnRH"
      },
      "outputs": [],
      "source": [
        "def find_L_n_faster(x, theta_list):\n",
        "  num_samples = theta_list.shape[0]\n",
        "  given_data_size = x.shape[0]\n",
        "\n",
        "  std_normal = TD.MultivariateNormal(\n",
        "            torch.zeros(num_samples, 2).to(device),\n",
        "            torch.eye(2).to(device).unsqueeze(0).repeat(num_samples, 1, 1),\n",
        "            validate_args=False)\n",
        "  x_data_rep = x.repeat(1,1,num_samples).reshape(given_data_size,num_samples,-1).to(torch.double).to(device)\n",
        "  prob_mx = torch.exp(std_normal.log_prob(theta_list - x_data_rep)).to(torch.double)\n",
        "  return -torch.mean(torch.log(torch.mean(prob_mx, dim = 1))).to(torch.double)\n",
        "\n",
        "def find_first_variation_var_faster(x, theta_list):\n",
        "  num_samples = theta_list.shape[0]\n",
        "  given_data_size = x.shape[0]\n",
        "\n",
        "  std_normal = TD.MultivariateNormal(\n",
        "            torch.zeros(num_samples, 2).to(device),\n",
        "            torch.eye(2).to(device).unsqueeze(0).repeat(num_samples, 1, 1),\n",
        "            validate_args=False)\n",
        "  x_data_rep = x.repeat(1,1,num_samples).reshape(given_data_size,num_samples,-1).to(device)\n",
        "  prob_mx = torch.exp(std_normal.log_prob(theta_list - x_data_rep))\n",
        "  row_mean = torch.transpose(torch.mean(prob_mx, dim = 1).repeat(num_samples, 1), 0, 1)\n",
        "  first_variation = -torch.mean(prob_mx/row_mean, dim = 0)\n",
        "  first_variation_var = torch.var(first_variation) # torch.var(first_variation)\n",
        "  return first_variation_var\n",
        "\n",
        "\n",
        "def find_first_variation_inner_var_faster(x, theta_list, tau, log_prob_model, log_prob_prev):\n",
        "  num_samples = theta_list.shape[0]\n",
        "  given_data_size = x.shape[0]\n",
        "\n",
        "  std_normal = TD.MultivariateNormal(\n",
        "            torch.zeros(num_samples, 2).to(device),\n",
        "            torch.eye(2).to(device).unsqueeze(0).repeat(num_samples, 1, 1),\n",
        "            validate_args=False)\n",
        "  x_data_rep = x.repeat(1,1,num_samples).reshape(given_data_size,num_samples,-1).to(device)\n",
        "  prob_mx = torch.exp(std_normal.log_prob(theta_list - x_data_rep))\n",
        "  row_mean = torch.transpose(torch.mean(prob_mx, dim = 1).repeat(num_samples, 1), 0, 1)\n",
        "  first_variation = -torch.mean(prob_mx/row_mean, dim = 0)\n",
        "  kld_loss_true = torch.mean(log_prob_model).to(torch.double) - torch.mean(log_prob_prev).to(torch.double)\n",
        "  sec_term = (1/tau) * (log_prob_model - log_prob_prev) # if kld_loss_true.item() >= 0 else torch.tensor([0.0]).to(device)\n",
        "  input = first_variation  + sec_term\n",
        "  first_variation_var = torch.var(input) # torch.var(input )\n",
        "  return first_variation_var\n"
      ]
    },
    {
      "cell_type": "code",
      "source": [
        "eta = 9\n",
        "n_max_iterations=5000\n",
        "FVV1_threshold_init = 0.07 # 0.07  ###################################################\n",
        "mirror_threshold = 0.05  ###################################################\n",
        "lr = 2e-4 # try 1e-5\n",
        "beta2 = 0.99  # 0.99default\n",
        "a = 20  # decay of lr wrt k\n",
        "b = 10  # decay of inner threshold wrt k\n",
        "dist = 1.4 # distance\n",
        "pretrain_factor = 1\n",
        "set_seed = 115"
      ],
      "metadata": {
        "id": "x8dU8h6ydbHb"
      },
      "execution_count": 84,
      "outputs": []
    },
    {
      "cell_type": "code",
      "execution_count": 85,
      "metadata": {
        "id": "jR6v6kGrzqYf",
        "colab": {
          "base_uri": "https://localhost:8080/"
        },
        "outputId": "97a615f8-f08e-4527-dc8f-9245d10c31a8"
      },
      "outputs": [
        {
          "output_type": "stream",
          "name": "stderr",
          "text": [
            "\r100%|██████████| 200/200 [00:03<00:00, 64.33it/s]\n"
          ]
        },
        {
          "output_type": "stream",
          "name": "stdout",
          "text": [
            "Loss: 2.8190982341766357\n"
          ]
        },
        {
          "output_type": "stream",
          "name": "stderr",
          "text": [
            "  2%|▏         | 101/5000 [00:04<04:05, 19.92it/s]"
          ]
        },
        {
          "output_type": "stream",
          "name": "stdout",
          "text": [
            "trail: 0 m step: 0 Loss: 4.417191410264533  L_n: 4.2957130910964425 FVV1: 0.19370870292186737 norm: 0.38722464442253113 FVV2: 0.27828943729400635\n"
          ]
        },
        {
          "output_type": "stream",
          "name": "stderr",
          "text": [
            "  4%|▍         | 203/5000 [00:09<03:54, 20.49it/s]"
          ]
        },
        {
          "output_type": "stream",
          "name": "stdout",
          "text": [
            "trail: 0 m step: 0 Loss: 4.358023439954432  L_n: 4.219611149805167 FVV1: 0.11555753648281097 norm: 0.4696245491504669 FVV2: 0.1760186105966568\n"
          ]
        },
        {
          "output_type": "stream",
          "name": "stderr",
          "text": [
            "  5%|▍         | 231/5000 [00:11<03:52, 20.52it/s]\n",
            "  2%|▏         | 102/5000 [00:04<04:03, 20.08it/s]"
          ]
        },
        {
          "output_type": "stream",
          "name": "stdout",
          "text": [
            "trail: 0 m step: 1 Loss: 4.337119657408074  L_n: 4.299608759029914 FVV1: 0.3148944675922394 norm: 0.7833235859870911 FVV2: 0.22909057140350342\n"
          ]
        },
        {
          "output_type": "stream",
          "name": "stderr",
          "text": [
            "  4%|▍         | 204/5000 [00:09<03:53, 20.52it/s]"
          ]
        },
        {
          "output_type": "stream",
          "name": "stdout",
          "text": [
            "trail: 0 m step: 1 Loss: 4.229515302597186  L_n: 4.195769801820683 FVV1: 0.18046335875988007 norm: 0.7643342018127441 FVV2: 0.1496025174856186\n"
          ]
        },
        {
          "output_type": "stream",
          "name": "stderr",
          "text": [
            "  6%|▌         | 303/5000 [00:14<03:46, 20.73it/s]"
          ]
        },
        {
          "output_type": "stream",
          "name": "stdout",
          "text": [
            "trail: 0 m step: 1 Loss: 4.18427268577842  L_n: 4.146574284433273 FVV1: 0.13627642393112183 norm: 0.6834729909896851 FVV2: 0.11460080742835999\n"
          ]
        },
        {
          "output_type": "stream",
          "name": "stderr",
          "text": [
            "  8%|▊         | 403/5000 [00:19<03:54, 19.60it/s]"
          ]
        },
        {
          "output_type": "stream",
          "name": "stdout",
          "text": [
            "trail: 0 m step: 1 Loss: 4.161918709094516  L_n: 4.124172624033548 FVV1: 0.10059840977191925 norm: 0.6510112881660461 FVV2: 0.10377824306488037\n"
          ]
        },
        {
          "output_type": "stream",
          "name": "stderr",
          "text": [
            " 10%|▉         | 480/5000 [00:23<03:42, 20.28it/s]\n",
            "  2%|▏         | 103/5000 [00:05<04:07, 19.77it/s]"
          ]
        },
        {
          "output_type": "stream",
          "name": "stdout",
          "text": [
            "trail: 0 m step: 2 Loss: 4.426348005006513  L_n: 4.3500336616600235 FVV1: 1.6574640274047852 norm: 1.1195398569107056 FVV2: 0.2707744240760803\n"
          ]
        },
        {
          "output_type": "stream",
          "name": "stderr",
          "text": [
            "  4%|▍         | 204/5000 [00:09<03:53, 20.58it/s]"
          ]
        },
        {
          "output_type": "stream",
          "name": "stdout",
          "text": [
            "trail: 0 m step: 2 Loss: 4.349995300626524  L_n: 4.28386264919152 FVV1: 0.35995110869407654 norm: 1.7897987365722656 FVV2: 0.23704805970191956\n"
          ]
        },
        {
          "output_type": "stream",
          "name": "stderr",
          "text": [
            "  6%|▌         | 303/5000 [00:14<03:44, 20.88it/s]"
          ]
        },
        {
          "output_type": "stream",
          "name": "stdout",
          "text": [
            "trail: 0 m step: 2 Loss: 4.258578588738177  L_n: 4.220466345721617 FVV1: 0.2984510660171509 norm: 1.4688669443130493 FVV2: 0.16696655750274658\n"
          ]
        },
        {
          "output_type": "stream",
          "name": "stderr",
          "text": [
            "  8%|▊         | 404/5000 [00:19<03:45, 20.36it/s]"
          ]
        },
        {
          "output_type": "stream",
          "name": "stdout",
          "text": [
            "trail: 0 m step: 2 Loss: 4.182713015304655  L_n: 4.1468790737390355 FVV1: 0.16144335269927979 norm: 0.782690703868866 FVV2: 0.11402787268161774\n"
          ]
        },
        {
          "output_type": "stream",
          "name": "stderr",
          "text": [
            " 10%|█         | 503/5000 [00:24<03:36, 20.78it/s]"
          ]
        },
        {
          "output_type": "stream",
          "name": "stdout",
          "text": [
            "trail: 0 m step: 2 Loss: 4.097229685163188  L_n: 4.075307441197191 FVV1: 0.07426536083221436 norm: 0.674173891544342 FVV2: 0.06993575394153595\n"
          ]
        },
        {
          "output_type": "stream",
          "name": "stderr",
          "text": [
            " 10%|█         | 506/5000 [00:24<03:39, 20.49it/s]\n",
            "  2%|▏         | 104/5000 [00:05<03:53, 20.98it/s]"
          ]
        },
        {
          "output_type": "stream",
          "name": "stdout",
          "text": [
            "trail: 0 m step: 3 Loss: 4.654463443704279  L_n: 4.574127190855972 FVV1: 0.7388224005699158 norm: 4.798040390014648 FVV2: 0.525414228439331\n"
          ]
        },
        {
          "output_type": "stream",
          "name": "stderr",
          "text": [
            "  4%|▍         | 202/5000 [00:09<04:02, 19.80it/s]"
          ]
        },
        {
          "output_type": "stream",
          "name": "stdout",
          "text": [
            "trail: 0 m step: 3 Loss: 4.549321760934225  L_n: 4.469502929384475 FVV1: 0.5346864461898804 norm: 3.9405829906463623 FVV2: 0.414800763130188\n"
          ]
        },
        {
          "output_type": "stream",
          "name": "stderr",
          "text": [
            "  6%|▌         | 303/5000 [00:14<03:44, 20.89it/s]"
          ]
        },
        {
          "output_type": "stream",
          "name": "stdout",
          "text": [
            "trail: 0 m step: 3 Loss: 4.524223325692848  L_n: 4.454631909439864 FVV1: 0.5432187914848328 norm: 4.41573429107666 FVV2: 0.4132458567619324\n"
          ]
        },
        {
          "output_type": "stream",
          "name": "stderr",
          "text": [
            "  8%|▊         | 402/5000 [00:19<03:39, 20.92it/s]"
          ]
        },
        {
          "output_type": "stream",
          "name": "stdout",
          "text": [
            "trail: 0 m step: 3 Loss: 4.513129087329084  L_n: 4.440087171435529 FVV1: 0.6074321866035461 norm: 3.7642605304718018 FVV2: 0.4326857328414917\n"
          ]
        },
        {
          "output_type": "stream",
          "name": "stderr",
          "text": [
            " 10%|█         | 502/5000 [00:24<03:43, 20.16it/s]"
          ]
        },
        {
          "output_type": "stream",
          "name": "stdout",
          "text": [
            "trail: 0 m step: 3 Loss: 4.426292871473469  L_n: 4.374819015501179 FVV1: 1.0158382654190063 norm: 3.620225429534912 FVV2: 0.36473700404167175\n"
          ]
        },
        {
          "output_type": "stream",
          "name": "stderr",
          "text": [
            " 12%|█▏        | 602/5000 [00:29<03:30, 20.93it/s]"
          ]
        },
        {
          "output_type": "stream",
          "name": "stdout",
          "text": [
            "trail: 0 m step: 3 Loss: 4.5883642958806234  L_n: 4.415039181100621 FVV1: 0.5546196103096008 norm: 10.923812866210938 FVV2: 0.44575929641723633\n"
          ]
        },
        {
          "output_type": "stream",
          "name": "stderr",
          "text": [
            " 14%|█▍        | 704/5000 [00:34<03:32, 20.25it/s]"
          ]
        },
        {
          "output_type": "stream",
          "name": "stdout",
          "text": [
            "trail: 0 m step: 3 Loss: 4.469379041154119  L_n: 4.414063758544391 FVV1: 0.6287583112716675 norm: 5.055126667022705 FVV2: 0.5026935338973999\n"
          ]
        },
        {
          "output_type": "stream",
          "name": "stderr",
          "text": [
            " 16%|█▌        | 802/5000 [00:38<03:21, 20.78it/s]"
          ]
        },
        {
          "output_type": "stream",
          "name": "stdout",
          "text": [
            "trail: 0 m step: 3 Loss: 4.41239810265983  L_n: 4.365810900375759 FVV1: 0.5400927662849426 norm: 4.519647121429443 FVV2: 0.41218841075897217\n"
          ]
        },
        {
          "output_type": "stream",
          "name": "stderr",
          "text": [
            " 18%|█▊        | 904/5000 [00:43<03:15, 20.95it/s]"
          ]
        },
        {
          "output_type": "stream",
          "name": "stdout",
          "text": [
            "trail: 0 m step: 3 Loss: 4.418216573750379  L_n: 4.363255395712524 FVV1: 0.913504958152771 norm: 3.588223457336426 FVV2: 0.44938600063323975\n"
          ]
        },
        {
          "output_type": "stream",
          "name": "stderr",
          "text": [
            " 20%|██        | 1002/5000 [00:48<03:23, 19.60it/s]"
          ]
        },
        {
          "output_type": "stream",
          "name": "stdout",
          "text": [
            "trail: 0 m step: 3 Loss: 4.432825815923481  L_n: 4.378293764837055 FVV1: 10.137102127075195 norm: 4.217744827270508 FVV2: 0.33373260498046875\n"
          ]
        },
        {
          "output_type": "stream",
          "name": "stderr",
          "text": [
            " 22%|██▏       | 1103/5000 [00:53<03:02, 21.37it/s]"
          ]
        },
        {
          "output_type": "stream",
          "name": "stdout",
          "text": [
            "trail: 0 m step: 3 Loss: 4.37180831687129  L_n: 4.303250047794412 FVV1: 7.6700005531311035 norm: 4.929220199584961 FVV2: 0.29328617453575134\n"
          ]
        },
        {
          "output_type": "stream",
          "name": "stderr",
          "text": [
            " 24%|██▍       | 1202/5000 [00:58<03:01, 20.90it/s]"
          ]
        },
        {
          "output_type": "stream",
          "name": "stdout",
          "text": [
            "trail: 0 m step: 3 Loss: 4.418686984553426  L_n: 4.3659417482626 FVV1: 0.6211356520652771 norm: 3.7510364055633545 FVV2: 0.3510628640651703\n"
          ]
        },
        {
          "output_type": "stream",
          "name": "stderr",
          "text": [
            " 26%|██▌       | 1304/5000 [01:02<02:58, 20.73it/s]"
          ]
        },
        {
          "output_type": "stream",
          "name": "stdout",
          "text": [
            "trail: 0 m step: 3 Loss: 4.34410618872798  L_n: 4.301927716844842 FVV1: 0.4812817871570587 norm: 3.867521047592163 FVV2: 0.2765556871891022\n"
          ]
        },
        {
          "output_type": "stream",
          "name": "stderr",
          "text": [
            " 28%|██▊       | 1402/5000 [01:07<02:53, 20.74it/s]"
          ]
        },
        {
          "output_type": "stream",
          "name": "stdout",
          "text": [
            "trail: 0 m step: 3 Loss: 4.40136377940811  L_n: 4.356821890641291 FVV1: 0.4203519821166992 norm: 5.316860675811768 FVV2: 0.3231985569000244\n"
          ]
        },
        {
          "output_type": "stream",
          "name": "stderr",
          "text": [
            " 30%|███       | 1504/5000 [01:12<02:49, 20.64it/s]"
          ]
        },
        {
          "output_type": "stream",
          "name": "stdout",
          "text": [
            "trail: 0 m step: 3 Loss: 4.391488652086065  L_n: 4.341025267033914 FVV1: 0.43241360783576965 norm: 3.856189489364624 FVV2: 0.33888742327690125\n"
          ]
        },
        {
          "output_type": "stream",
          "name": "stderr",
          "text": [
            " 32%|███▏      | 1603/5000 [01:17<02:49, 20.02it/s]"
          ]
        },
        {
          "output_type": "stream",
          "name": "stdout",
          "text": [
            "trail: 0 m step: 3 Loss: 4.417844245493037  L_n: 4.353184597021628 FVV1: 0.5208475589752197 norm: 3.766103982925415 FVV2: 0.31827419996261597\n"
          ]
        },
        {
          "output_type": "stream",
          "name": "stderr",
          "text": [
            " 34%|███▍      | 1702/5000 [01:22<02:44, 20.07it/s]"
          ]
        },
        {
          "output_type": "stream",
          "name": "stdout",
          "text": [
            "trail: 0 m step: 3 Loss: 4.406728344634468  L_n: 4.307618747958172 FVV1: 1.5655179023742676 norm: 2.973459243774414 FVV2: 0.31971025466918945\n"
          ]
        },
        {
          "output_type": "stream",
          "name": "stderr",
          "text": [
            " 36%|███▌      | 1804/5000 [01:27<02:34, 20.69it/s]"
          ]
        },
        {
          "output_type": "stream",
          "name": "stdout",
          "text": [
            "trail: 0 m step: 3 Loss: 4.34096143231905  L_n: 4.298864605553778 FVV1: 0.3989810049533844 norm: 4.027666091918945 FVV2: 0.31324154138565063\n"
          ]
        },
        {
          "output_type": "stream",
          "name": "stderr",
          "text": [
            " 38%|███▊      | 1903/5000 [01:32<02:35, 19.94it/s]"
          ]
        },
        {
          "output_type": "stream",
          "name": "stdout",
          "text": [
            "trail: 0 m step: 3 Loss: 4.3250288630410205  L_n: 4.279670655550311 FVV1: 0.4123191237449646 norm: 2.7079265117645264 FVV2: 0.287138432264328\n"
          ]
        },
        {
          "output_type": "stream",
          "name": "stderr",
          "text": [
            " 40%|████      | 2002/5000 [01:36<02:28, 20.22it/s]"
          ]
        },
        {
          "output_type": "stream",
          "name": "stdout",
          "text": [
            "trail: 0 m step: 3 Loss: 4.312539945029041  L_n: 4.2774339483673245 FVV1: 0.3538234829902649 norm: 3.6957204341888428 FVV2: 0.2879693806171417\n"
          ]
        },
        {
          "output_type": "stream",
          "name": "stderr",
          "text": [
            " 42%|████▏     | 2104/5000 [01:41<02:20, 20.58it/s]"
          ]
        },
        {
          "output_type": "stream",
          "name": "stdout",
          "text": [
            "trail: 0 m step: 3 Loss: 4.330284399567512  L_n: 4.2946666241802784 FVV1: 0.38208287954330444 norm: 4.3678364753723145 FVV2: 0.3248817026615143\n"
          ]
        },
        {
          "output_type": "stream",
          "name": "stderr",
          "text": [
            " 44%|████▍     | 2203/5000 [01:46<02:13, 20.89it/s]"
          ]
        },
        {
          "output_type": "stream",
          "name": "stdout",
          "text": [
            "trail: 0 m step: 3 Loss: 4.3207510496772885  L_n: 4.2795753398468985 FVV1: 6.610513210296631 norm: 2.8767755031585693 FVV2: 0.3025549650192261\n"
          ]
        },
        {
          "output_type": "stream",
          "name": "stderr",
          "text": [
            " 46%|████▌     | 2302/5000 [01:51<02:12, 20.34it/s]"
          ]
        },
        {
          "output_type": "stream",
          "name": "stdout",
          "text": [
            "trail: 0 m step: 3 Loss: 4.286746844013262  L_n: 4.2449631403152095 FVV1: 0.32388177514076233 norm: 1.9082010984420776 FVV2: 0.2676362991333008\n"
          ]
        },
        {
          "output_type": "stream",
          "name": "stderr",
          "text": [
            " 48%|████▊     | 2403/5000 [01:56<02:14, 19.31it/s]"
          ]
        },
        {
          "output_type": "stream",
          "name": "stdout",
          "text": [
            "trail: 0 m step: 3 Loss: 4.300095829722175  L_n: 4.271541125267965 FVV1: 0.36538007855415344 norm: 3.620515823364258 FVV2: 0.30385011434555054\n"
          ]
        },
        {
          "output_type": "stream",
          "name": "stderr",
          "text": [
            " 50%|█████     | 2504/5000 [02:01<02:02, 20.31it/s]"
          ]
        },
        {
          "output_type": "stream",
          "name": "stdout",
          "text": [
            "trail: 0 m step: 3 Loss: 4.269672227244242  L_n: 4.240764557329149 FVV1: 0.3820517957210541 norm: 3.7407219409942627 FVV2: 0.2650949954986572\n"
          ]
        },
        {
          "output_type": "stream",
          "name": "stderr",
          "text": [
            " 52%|█████▏    | 2603/5000 [02:06<02:02, 19.64it/s]"
          ]
        },
        {
          "output_type": "stream",
          "name": "stdout",
          "text": [
            "trail: 0 m step: 3 Loss: 4.292057845472469  L_n: 4.253243380267594 FVV1: 0.35869279503822327 norm: 1.9696394205093384 FVV2: 0.26819536089897156\n"
          ]
        },
        {
          "output_type": "stream",
          "name": "stderr",
          "text": [
            " 54%|█████▍    | 2703/5000 [02:11<01:55, 19.89it/s]"
          ]
        },
        {
          "output_type": "stream",
          "name": "stdout",
          "text": [
            "trail: 0 m step: 3 Loss: 4.30681456757339  L_n: 4.2758761541653225 FVV1: 0.3281676173210144 norm: 3.3654003143310547 FVV2: 0.27627211809158325\n"
          ]
        },
        {
          "output_type": "stream",
          "name": "stderr",
          "text": [
            " 56%|█████▌    | 2804/5000 [02:16<01:46, 20.67it/s]"
          ]
        },
        {
          "output_type": "stream",
          "name": "stdout",
          "text": [
            "trail: 0 m step: 3 Loss: 4.300931015813441  L_n: 4.2668665109781 FVV1: 0.3150760233402252 norm: 3.1513895988464355 FVV2: 0.26205456256866455\n"
          ]
        },
        {
          "output_type": "stream",
          "name": "stderr",
          "text": [
            " 58%|█████▊    | 2902/5000 [02:21<01:45, 19.80it/s]"
          ]
        },
        {
          "output_type": "stream",
          "name": "stdout",
          "text": [
            "trail: 0 m step: 3 Loss: 4.2795454637795185  L_n: 4.2485214316106 FVV1: 0.32410433888435364 norm: 3.168485403060913 FVV2: 0.2817860245704651\n"
          ]
        },
        {
          "output_type": "stream",
          "name": "stderr",
          "text": [
            " 60%|██████    | 3002/5000 [02:26<01:40, 19.91it/s]"
          ]
        },
        {
          "output_type": "stream",
          "name": "stdout",
          "text": [
            "trail: 0 m step: 3 Loss: 4.285389396721874  L_n: 4.253964000120515 FVV1: 0.39887404441833496 norm: 2.8694121837615967 FVV2: 0.2654780149459839\n"
          ]
        },
        {
          "output_type": "stream",
          "name": "stderr",
          "text": [
            " 62%|██████▏   | 3102/5000 [02:31<01:37, 19.52it/s]"
          ]
        },
        {
          "output_type": "stream",
          "name": "stdout",
          "text": [
            "trail: 0 m step: 3 Loss: 4.3071837661286345  L_n: 4.271052887468221 FVV1: 0.3171415328979492 norm: 2.288027286529541 FVV2: 0.25986871123313904\n"
          ]
        },
        {
          "output_type": "stream",
          "name": "stderr",
          "text": [
            " 64%|██████▍   | 3203/5000 [02:36<01:29, 20.07it/s]"
          ]
        },
        {
          "output_type": "stream",
          "name": "stdout",
          "text": [
            "trail: 0 m step: 3 Loss: 4.261368638602217  L_n: 4.234377244771176 FVV1: 1.9362050294876099 norm: 2.703234910964966 FVV2: 0.24080045521259308\n"
          ]
        },
        {
          "output_type": "stream",
          "name": "stderr",
          "text": [
            " 66%|██████▌   | 3303/5000 [02:41<01:22, 20.57it/s]"
          ]
        },
        {
          "output_type": "stream",
          "name": "stdout",
          "text": [
            "trail: 0 m step: 3 Loss: 4.2654314862519245  L_n: 4.226465492794554 FVV1: 0.294504314661026 norm: 1.3863022327423096 FVV2: 0.2503319978713989\n"
          ]
        },
        {
          "output_type": "stream",
          "name": "stderr",
          "text": [
            " 68%|██████▊   | 3402/5000 [02:45<01:15, 21.05it/s]"
          ]
        },
        {
          "output_type": "stream",
          "name": "stdout",
          "text": [
            "trail: 0 m step: 3 Loss: 4.300524520763762  L_n: 4.259940777774328 FVV1: 0.330961138010025 norm: 1.8979164361953735 FVV2: 0.2569224536418915\n"
          ]
        },
        {
          "output_type": "stream",
          "name": "stderr",
          "text": [
            " 70%|███████   | 3504/5000 [02:50<01:11, 20.79it/s]"
          ]
        },
        {
          "output_type": "stream",
          "name": "stdout",
          "text": [
            "trail: 0 m step: 3 Loss: 4.623168653652604  L_n: 4.21573789888508 FVV1: 0.359907329082489 norm: 44.07343673706055 FVV2: 0.22350472211837769\n"
          ]
        },
        {
          "output_type": "stream",
          "name": "stderr",
          "text": [
            " 72%|███████▏  | 3603/5000 [02:55<01:06, 20.95it/s]"
          ]
        },
        {
          "output_type": "stream",
          "name": "stdout",
          "text": [
            "trail: 0 m step: 3 Loss: 4.2911208774604885  L_n: 4.250974791509425 FVV1: 0.3709150552749634 norm: 2.1862547397613525 FVV2: 0.3320449888706207\n"
          ]
        },
        {
          "output_type": "stream",
          "name": "stderr",
          "text": [
            " 74%|███████▍  | 3702/5000 [03:00<01:03, 20.40it/s]"
          ]
        },
        {
          "output_type": "stream",
          "name": "stdout",
          "text": [
            "trail: 0 m step: 3 Loss: 4.231123039455273  L_n: 4.207018921108105 FVV1: 0.38159871101379395 norm: 2.53409481048584 FVV2: 0.22003629803657532\n"
          ]
        },
        {
          "output_type": "stream",
          "name": "stderr",
          "text": [
            " 76%|███████▌  | 3802/5000 [03:05<00:59, 20.19it/s]"
          ]
        },
        {
          "output_type": "stream",
          "name": "stdout",
          "text": [
            "trail: 0 m step: 3 Loss: 4.273438844608071  L_n: 4.233149601545734 FVV1: 3.768272638320923 norm: 1.6720972061157227 FVV2: 0.27933406829833984\n"
          ]
        },
        {
          "output_type": "stream",
          "name": "stderr",
          "text": [
            " 78%|███████▊  | 3903/5000 [03:10<00:54, 20.10it/s]"
          ]
        },
        {
          "output_type": "stream",
          "name": "stdout",
          "text": [
            "trail: 0 m step: 3 Loss: 4.2220658670734945  L_n: 4.198969729496861 FVV1: 0.2470323145389557 norm: 2.2305104732513428 FVV2: 0.19681409001350403\n"
          ]
        },
        {
          "output_type": "stream",
          "name": "stderr",
          "text": [
            " 80%|████████  | 4002/5000 [03:15<00:48, 20.61it/s]"
          ]
        },
        {
          "output_type": "stream",
          "name": "stdout",
          "text": [
            "trail: 0 m step: 3 Loss: 4.249112664664285  L_n: 4.210639932756123 FVV1: 0.32995590567588806 norm: 1.733933448791504 FVV2: 0.27835047245025635\n"
          ]
        },
        {
          "output_type": "stream",
          "name": "stderr",
          "text": [
            " 82%|████████▏ | 4102/5000 [03:20<00:43, 20.54it/s]"
          ]
        },
        {
          "output_type": "stream",
          "name": "stdout",
          "text": [
            "trail: 0 m step: 3 Loss: 4.234730112323733  L_n: 4.201335881587107 FVV1: 0.25202420353889465 norm: 4.378589630126953 FVV2: 0.19556641578674316\n"
          ]
        },
        {
          "output_type": "stream",
          "name": "stderr",
          "text": [
            " 84%|████████▍ | 4204/5000 [03:24<00:37, 21.11it/s]"
          ]
        },
        {
          "output_type": "stream",
          "name": "stdout",
          "text": [
            "trail: 0 m step: 3 Loss: 4.251521814707304  L_n: 4.206187925911663 FVV1: 0.4951241910457611 norm: 1.7324717044830322 FVV2: 0.22523070871829987\n"
          ]
        },
        {
          "output_type": "stream",
          "name": "stderr",
          "text": [
            " 86%|████████▌ | 4304/5000 [03:29<00:34, 20.19it/s]"
          ]
        },
        {
          "output_type": "stream",
          "name": "stdout",
          "text": [
            "trail: 0 m step: 3 Loss: 4.293773621500943  L_n: 4.1944601504485615 FVV1: 0.41019055247306824 norm: 5.146700859069824 FVV2: 0.22566333413124084\n"
          ]
        },
        {
          "output_type": "stream",
          "name": "stderr",
          "text": [
            " 88%|████████▊ | 4403/5000 [03:34<00:29, 20.57it/s]"
          ]
        },
        {
          "output_type": "stream",
          "name": "stdout",
          "text": [
            "trail: 0 m step: 3 Loss: 4.252705459682333  L_n: 4.204435048720758 FVV1: 0.22641026973724365 norm: 9.529953956604004 FVV2: 0.19134658575057983\n"
          ]
        },
        {
          "output_type": "stream",
          "name": "stderr",
          "text": [
            " 90%|█████████ | 4502/5000 [03:39<00:25, 19.22it/s]"
          ]
        },
        {
          "output_type": "stream",
          "name": "stdout",
          "text": [
            "trail: 0 m step: 3 Loss: 4.2386601087826135  L_n: 4.214599462089701 FVV1: 0.28535616397857666 norm: 1.6960498094558716 FVV2: 0.22979407012462616\n"
          ]
        },
        {
          "output_type": "stream",
          "name": "stderr",
          "text": [
            " 92%|█████████▏| 4602/5000 [03:44<00:19, 20.12it/s]"
          ]
        },
        {
          "output_type": "stream",
          "name": "stdout",
          "text": [
            "trail: 0 m step: 3 Loss: 4.251520398184645  L_n: 4.226850247639737 FVV1: 0.2661038339138031 norm: 2.489436149597168 FVV2: 0.21627841889858246\n"
          ]
        },
        {
          "output_type": "stream",
          "name": "stderr",
          "text": [
            " 94%|█████████▍| 4704/5000 [03:49<00:14, 20.95it/s]"
          ]
        },
        {
          "output_type": "stream",
          "name": "stdout",
          "text": [
            "trail: 0 m step: 3 Loss: 4.211798198665965  L_n: 4.189513902842126 FVV1: 0.294189989566803 norm: 2.8124401569366455 FVV2: 0.24176952242851257\n"
          ]
        },
        {
          "output_type": "stream",
          "name": "stderr",
          "text": [
            " 96%|█████████▌| 4804/5000 [03:54<00:09, 20.33it/s]"
          ]
        },
        {
          "output_type": "stream",
          "name": "stdout",
          "text": [
            "trail: 0 m step: 3 Loss: 4.234534443115589  L_n: 4.21093548075563 FVV1: 0.26925578713417053 norm: 1.9813593626022339 FVV2: 0.22742484509944916\n"
          ]
        },
        {
          "output_type": "stream",
          "name": "stderr",
          "text": [
            " 98%|█████████▊| 4902/5000 [03:58<00:04, 19.78it/s]"
          ]
        },
        {
          "output_type": "stream",
          "name": "stdout",
          "text": [
            "trail: 0 m step: 3 Loss: 4.231653016651534  L_n: 4.2002219774771365 FVV1: 0.2735019326210022 norm: 1.9147788286209106 FVV2: 0.22169534862041473\n"
          ]
        },
        {
          "output_type": "stream",
          "name": "stderr",
          "text": [
            "100%|██████████| 5000/5000 [04:03<00:00, 20.51it/s]\n"
          ]
        },
        {
          "output_type": "stream",
          "name": "stdout",
          "text": [
            "trail: 0 m step: 3 Loss: 4.22281789180951  L_n: 4.202009539445076 FVV1: 0.24299660325050354 norm: 3.2141263484954834 FVV2: 0.20486657321453094\n",
            "fail\n"
          ]
        }
      ],
      "source": [
        "Ln_rho_k_list = np.zeros((total_trial_num, n_max_mirror_iterations))\n",
        "times_2d = np.zeros((total_trial_num, n_max_mirror_iterations))\n",
        "iterations_2d = np.zeros((total_trial_num, n_max_mirror_iterations))\n",
        "\n",
        "sampled_theta_m = nf.distributions.TwoMoons().to(device)\n",
        "\n",
        "for trail_num in range(total_trial_num):\n",
        "  loss_hist = np.array([])\n",
        "  torch.manual_seed(set_seed + trail_num)\n",
        "  np.random.seed(set_seed + trail_num)\n",
        "\n",
        "\n",
        "  sampled_mean = dist*sampled_theta_m.sample(given_data_size).to(device)\n",
        "\n",
        "  normal_temp = TD.MultivariateNormal(\n",
        "        sampled_mean.to(device),\n",
        "        torch.eye(2).to(device).unsqueeze(0).repeat(given_data_size, 1, 1).to(device),\n",
        "        validate_args=False)\n",
        "\n",
        "  given_data = normal_temp.sample().detach().to(device)\n",
        "\n",
        "  mirror_loss_hist = np.zeros(n_max_mirror_iterations)\n",
        "  times = np.zeros(n_max_mirror_iterations)\n",
        "  iterations_1d = np.zeros(n_max_mirror_iterations)\n",
        "\n",
        "  target_pretrain = TD.MultivariateNormal(\n",
        "      torch.zeros(2).to(device), pretrain_factor * torch.eye(2).to(device))\n",
        "  # Define 2D Gaussian base distribution\n",
        "  base = nf.distributions.DiagGaussian(2, trainable=False)\n",
        "  # Define list of flows\n",
        "  num_layers = 10\n",
        "  flows = []\n",
        "  for i in range(num_layers):\n",
        "      # Neural network with two hidden layers having 64 units each\n",
        "      param_map = nf.nets.MLP([1, 64, 64, 2], init_zeros=True )\n",
        "      flows.append(nf.flows.AffineCouplingBlock(param_map))\n",
        "      flows.append(nf.flows.Permute(2, mode='swap'))\n",
        "\n",
        "  model = nf.NormalizingFlow(base, flows).to(device)\n",
        "  optimizer1 = torch.optim.Adam(model.parameters(), lr=1e-3, weight_decay=1e-3, betas=(0.9, 0.999))\n",
        "\n",
        "  for it in tqdm(range(200)):\n",
        "      optimizer1.zero_grad()\n",
        "\n",
        "      # Get training samples\n",
        "      x = target_pretrain.sample((num_samples,)).to(device)\n",
        "      loss = model.forward_kld(x)\n",
        "\n",
        "      # Do backprop and optimizer step\n",
        "      if ~(torch.isnan(loss) | torch.isinf(loss)):\n",
        "          loss.backward()\n",
        "          optimizer1.step()\n",
        "\n",
        "      if it % 100 == 99:\n",
        "        clear_output(wait=True)\n",
        "        print('Loss:', loss.item())\n",
        "\n",
        "  current_mirror_patient = 0\n",
        "  mirror_min = 5000\n",
        "  mirror_min_prev = 5000\n",
        "  for mirror_itr in range(n_max_mirror_iterations):\n",
        "    optimizer_lr = a * lr/(mirror_itr + a)\n",
        "    inner_threshold =  b * FVV1_threshold_init/(mirror_itr + b)\n",
        "    flows = []\n",
        "    for i in range(num_layers):\n",
        "        param_map = nf.nets.MLP([1, 64, 64, 2], init_zeros=True )\n",
        "        flows.append(nf.flows.AffineCouplingBlock(param_map))\n",
        "        flows.append(nf.flows.Permute(2, mode='swap'))\n",
        "\n",
        "\n",
        "    model2 = nf.NormalizingFlow(base, flows).to(device)\n",
        "    optimizer_lr_input = optimizer_lr\n",
        "    optimizer = torch.optim.Adam(model2.parameters(), lr=optimizer_lr_input, weight_decay=1e-5, betas=(0.9, beta2))\n",
        "    scheduler = torch.optim.lr_scheduler.StepLR(optimizer, step_size=100, gamma=0.9)\n",
        "\n",
        "\n",
        "    model2.train()\n",
        "    torch.cuda.synchronize()\n",
        "    start_epoch = time.time()\n",
        "\n",
        "    input_eta = (eta*(outer_eta_factor**mirror_itr))\n",
        "    for it in tqdm(range(n_max_iterations), disable = not verbose):\n",
        "\n",
        "      optimizer.zero_grad()\n",
        "      z = base.sample(num_samples)\n",
        "      log_prob_rho_0 = base.log_prob(z)\n",
        "      sampled_theta, log_det_model = model2.forward_and_log_det(z)\n",
        "      log_prob_model = log_prob_rho_0 - log_det_model\n",
        "      log_prob_prev = model.log_prob(sampled_theta)\n",
        "\n",
        "      L_n_loss = find_L_n_faster(x=given_data.to(torch.double), theta_list=sampled_theta.to(torch.double))\n",
        "      kld_loss_true = torch.mean(log_prob_model).to(torch.double) - torch.mean(log_prob_prev).to(torch.double)\n",
        "      kld_loss = kld_loss_true if kld_loss_true.item() >= 0 else torch.tensor([0.0]).to(device)\n",
        "      kld_loss = kld_loss if kld_loss.item() <= 500 else torch.tensor([500.0]).to(device)\n",
        "      loss = L_n_loss    + (1/input_eta)*kld_loss\n",
        "\n",
        "      # Do backprop and optimizer step\n",
        "      if ~(torch.isnan(loss) | torch.isinf(loss)):\n",
        "        loss.backward()\n",
        "        grads = [param.grad.detach().flatten()\n",
        "            for param in model2.parameters()\n",
        "            if param.grad is not None]\n",
        "        norm = torch.cat(grads).norm()\n",
        "\n",
        "        optimizer.step()\n",
        "        scheduler.step()\n",
        "        optimizer.zero_grad()\n",
        "\n",
        "      z = base.sample(num_samples)\n",
        "      log_prob_rho_0 = base.log_prob(z)\n",
        "      sampled_theta, log_det_model = model2.forward_and_log_det(z)\n",
        "      log_prob_model = log_prob_rho_0 - log_det_model\n",
        "      log_prob_prev = model.log_prob(sampled_theta)\n",
        "\n",
        "      FVV = find_first_variation_inner_var_faster(x=given_data, theta_list = sampled_theta, tau = input_eta, log_prob_model = log_prob_model, log_prob_prev = log_prob_prev)\n",
        "      FVV2 = find_first_variation_var_faster(x=given_data, theta_list = sampled_theta)\n",
        "      if verbose:\n",
        "        if it % 100 == 99:\n",
        "          # clear_output(wait=True)\n",
        "          print('trail:',trail_num,'m step:',mirror_itr,'Loss:', loss.item(), ' L_n:', L_n_loss.item(), 'FVV1:',FVV.item(),'norm:', norm.item(), 'FVV2:', FVV2.item())\n",
        "\n",
        "      if FVV.item() < inner_threshold:\n",
        "        break\n",
        "\n",
        "    # After finishing the inner loop\n",
        "    torch.cuda.synchronize()\n",
        "    end_epoch = time.time()\n",
        "    elapsed = end_epoch - start_epoch\n",
        "    times[mirror_itr] = elapsed\n",
        "\n",
        "    model.load_state_dict(model2.state_dict())\n",
        "\n",
        "    iterations_1d[mirror_itr]  = it + 1\n",
        "\n",
        "\n",
        "    torch.manual_seed(set_seed + trail_num)\n",
        "    with torch.no_grad():\n",
        "      z = base.sample(num_samples)\n",
        "      log_prob_rho_0 = base.log_prob(z)\n",
        "      generated1, log_porb = model.forward_and_log_det(z)\n",
        "    # x_all_data[mirror_itr,:,:] = generated1\n",
        "\n",
        "    L_n_loss_temp = L_n_loss\n",
        "    mirror_loss_hist[mirror_itr] = L_n_loss_temp.to('cpu').data.numpy()\n",
        "\n",
        "    FVV_mirror = find_first_variation_var_faster(x=given_data, theta_list = generated1)\n",
        "\n",
        "    if FVV_mirror.item() < mirror_threshold and (FVV.item() < inner_threshold) and (mirror_itr > 1):\n",
        "      print(\"finished\")\n",
        "      break\n",
        "    if FVV_mirror.item() > mirror_threshold and (FVV.item() > inner_threshold) and (mirror_itr > 1):\n",
        "      print(\"fail\")\n",
        "      break\n",
        "\n",
        "\n",
        "  gc.collect()"
      ]
    },
    {
      "cell_type": "code",
      "source": [
        "FVV, FVV_mirror, FVV_mirror.item(), FVV.item()"
      ],
      "metadata": {
        "id": "UG0ceuCZ6ekL",
        "colab": {
          "base_uri": "https://localhost:8080/"
        },
        "outputId": "9b7e5293-7b4c-471b-e415-933bedccc107"
      },
      "execution_count": 81,
      "outputs": [
        {
          "output_type": "execute_result",
          "data": {
            "text/plain": [
              "(tensor(0.0489, device='cuda:0', grad_fn=<VarBackward0>),\n",
              " tensor(0.0497, device='cuda:0'),\n",
              " 0.049671996384859085,\n",
              " 0.04894685000181198)"
            ]
          },
          "metadata": {},
          "execution_count": 81
        }
      ]
    },
    {
      "cell_type": "code",
      "source": [
        "sum(sum([iterations_1d > 0]))"
      ],
      "metadata": {
        "id": "NCL4jPJhkKRo",
        "colab": {
          "base_uri": "https://localhost:8080/"
        },
        "outputId": "dc647187-aeac-4f76-88cc-954335a02d72"
      },
      "execution_count": 82,
      "outputs": [
        {
          "output_type": "execute_result",
          "data": {
            "text/plain": [
              "4"
            ]
          },
          "metadata": {},
          "execution_count": 82
        }
      ]
    },
    {
      "cell_type": "code",
      "source": [
        "np.mean(iterations_1d[2:][iterations_1d[2:] > 0])"
      ],
      "metadata": {
        "id": "7shqYnOzAY9p",
        "colab": {
          "base_uri": "https://localhost:8080/"
        },
        "outputId": "ecb11eba-a7f1-4f37-e5c0-f9d3db4fbdfa"
      },
      "execution_count": 83,
      "outputs": [
        {
          "output_type": "execute_result",
          "data": {
            "text/plain": [
              "298.0"
            ]
          },
          "metadata": {},
          "execution_count": 83
        }
      ]
    }
  ],
  "metadata": {
    "accelerator": "GPU",
    "colab": {
      "machine_shape": "hm",
      "provenance": [],
      "gpuType": "T4"
    },
    "kernelspec": {
      "display_name": "Python 3",
      "name": "python3"
    },
    "language_info": {
      "name": "python"
    }
  },
  "nbformat": 4,
  "nbformat_minor": 0
}