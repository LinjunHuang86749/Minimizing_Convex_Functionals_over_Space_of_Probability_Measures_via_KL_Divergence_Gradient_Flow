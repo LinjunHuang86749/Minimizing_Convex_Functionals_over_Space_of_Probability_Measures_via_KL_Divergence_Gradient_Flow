{
  "cells": [
    {
      "cell_type": "code",
      "execution_count": 7,
      "metadata": {
        "id": "JduICjZEGswc"
      },
      "outputs": [],
      "source": [
        "given_data_size = 5000\n",
        "total_trial_num = 10\n",
        "m = 3000\n",
        "eta = 1e0\n",
        "t_max = 25\n",
        "set_seed = 114530\n",
        "pretrain_factor = 4"
      ]
    },
    {
      "cell_type": "code",
      "execution_count": 8,
      "metadata": {
        "colab": {
          "base_uri": "https://localhost:8080/"
        },
        "id": "l69eHbo4FD-d",
        "outputId": "e4213645-9230-43f8-81ba-2ce4c4e6715f"
      },
      "outputs": [
        {
          "output_type": "stream",
          "name": "stdout",
          "text": [
            "Requirement already satisfied: normflows in /usr/local/lib/python3.10/dist-packages (1.7.2)\n",
            "Requirement already satisfied: numpy in /usr/local/lib/python3.10/dist-packages (from normflows) (1.23.5)\n",
            "Requirement already satisfied: torch in /usr/local/lib/python3.10/dist-packages (from normflows) (2.1.0+cu118)\n",
            "Requirement already satisfied: filelock in /usr/local/lib/python3.10/dist-packages (from torch->normflows) (3.12.4)\n",
            "Requirement already satisfied: typing-extensions in /usr/local/lib/python3.10/dist-packages (from torch->normflows) (4.5.0)\n",
            "Requirement already satisfied: sympy in /usr/local/lib/python3.10/dist-packages (from torch->normflows) (1.12)\n",
            "Requirement already satisfied: networkx in /usr/local/lib/python3.10/dist-packages (from torch->normflows) (3.1)\n",
            "Requirement already satisfied: jinja2 in /usr/local/lib/python3.10/dist-packages (from torch->normflows) (3.1.2)\n",
            "Requirement already satisfied: fsspec in /usr/local/lib/python3.10/dist-packages (from torch->normflows) (2023.6.0)\n",
            "Requirement already satisfied: triton==2.1.0 in /usr/local/lib/python3.10/dist-packages (from torch->normflows) (2.1.0)\n",
            "Requirement already satisfied: MarkupSafe>=2.0 in /usr/local/lib/python3.10/dist-packages (from jinja2->torch->normflows) (2.1.3)\n",
            "Requirement already satisfied: mpmath>=0.19 in /usr/local/lib/python3.10/dist-packages (from sympy->torch->normflows) (1.3.0)\n"
          ]
        }
      ],
      "source": [
        "!pip install normflows"
      ]
    },
    {
      "cell_type": "code",
      "execution_count": 9,
      "metadata": {
        "id": "SYGQ0L75A8_H"
      },
      "outputs": [],
      "source": [
        "# Import required packages\n",
        "import torch\n",
        "import numpy as np\n",
        "import normflows as nf\n",
        "import os\n",
        "import numpy as np\n",
        "from matplotlib import pyplot as plt\n",
        "from tqdm import tqdm\n",
        "from IPython.display import clear_output\n",
        "import torch.nn.functional as F\n",
        "import torch.distributions as TD\n",
        "import pandas as pd\n",
        "import seaborn as sb\n",
        "import torch.nn as nn\n",
        "import shutil\n",
        "import gc"
      ]
    },
    {
      "cell_type": "code",
      "source": [
        "enable_cuda = True\n",
        "device = torch.device('cuda' if torch.cuda.is_available() and enable_cuda else 'cpu')\n",
        "sampled_theta_m = nf.distributions.TwoMoons().to(device)\n",
        "\n",
        "cov_mx = torch.tensor([[1, 0.0], [0.0, 1.]], dtype=torch.double).to(device)\n"
      ],
      "metadata": {
        "id": "zlvz2xtd-ykY"
      },
      "execution_count": 10,
      "outputs": []
    },
    {
      "cell_type": "code",
      "execution_count": 11,
      "metadata": {
        "id": "_XN4Rb_RGe15"
      },
      "outputs": [],
      "source": [
        "def get_p1_bottom_faster(wgt, x, theta_list):\n",
        "  num_samples = theta_list.shape[0]\n",
        "  given_data_size = x.shape[0]\n",
        "\n",
        "  std_normal = TD.MultivariateNormal(\n",
        "            torch.zeros(num_samples, 2).to(device),\n",
        "            cov_mx.unsqueeze(0).repeat(num_samples, 1, 1),\n",
        "            validate_args=False)\n",
        "  x_data_rep = x.repeat(1,1,num_samples).reshape(given_data_size,num_samples,-1)\n",
        "  prob_mx = torch.exp(std_normal.log_prob(theta_list - x_data_rep))\n",
        "  wgt_rep = wgt.repeat(given_data_size, 1)\n",
        "  return torch.nanmean(prob_mx*wgt_rep, 1)*given_data_size\n",
        "\n",
        "def find_L_n_ver4(x, wgt, theta_list):\n",
        "  num_samples = theta_list.shape[0]\n",
        "  given_data_size = x.shape[0]\n",
        "  mu = theta_list\n",
        "  std_normal = TD.MultivariateNormal(\n",
        "            mu.to(device),\n",
        "            cov_mx.to(device).unsqueeze(0).repeat(num_samples, 1, 1).to(device),\n",
        "            validate_args=False)\n",
        "  x_data_rep = x.repeat(1,1,num_samples).reshape(given_data_size,num_samples,-1)\n",
        "  prob_mx = torch.exp(std_normal.log_prob(x_data_rep))\n",
        "  prob_mx_log_col_mean = torch.log(torch.sum(prob_mx*wgt.repeat(given_data_size,1), dim = 1))\n",
        "  return -torch.mean(prob_mx_log_col_mean)"
      ]
    },
    {
      "cell_type": "code",
      "execution_count": null,
      "metadata": {
        "id": "S4l2N2dMNf70"
      },
      "outputs": [],
      "source": [
        "Ln_rho_k_list = np.zeros((total_trial_num, t_max))\n",
        "\n",
        "target_pretrain = TD.MultivariateNormal(\n",
        "    torch.zeros(2).to(device), pretrain_factor * torch.eye(2).to(device))\n",
        "\n",
        "for trail_num in range(total_trial_num):\n",
        "\n",
        "  torch.manual_seed(set_seed + trail_num)\n",
        "\n",
        "  sampled_mean = sampled_theta_m.sample(given_data_size).to(device).to(torch.float64)\n",
        "  normal_temp = TD.MultivariateNormal(\n",
        "        sampled_mean.to(device),\n",
        "        cov_mx.to(device).unsqueeze(0).repeat(given_data_size, 1, 1).to(device),\n",
        "        validate_args=False)\n",
        "\n",
        "  given_data = normal_temp.sample().detach().to(device)\n",
        "\n",
        "  mu = target_pretrain.sample((m,))\n",
        "  wgt = torch.tensor([1/m], dtype=torch.float64).repeat(m).to(device)\n",
        "  L_n_loss_list = np.array([])\n",
        "\n",
        "  folder_name = 'trial' + str(trail_num)\n",
        "  for t in tqdm(range(t_max)):\n",
        "\n",
        "    num_samples = m\n",
        "    given_data_size = given_data.shape[0]\n",
        "\n",
        "    std_normal = TD.MultivariateNormal(\n",
        "              torch.zeros(num_samples, 2).to(device),\n",
        "              cov_mx.unsqueeze(0).repeat(num_samples, 1, 1),\n",
        "              validate_args=False)\n",
        "\n",
        "    old_bottom = get_p1_bottom_faster(wgt, given_data, mu).repeat(num_samples, 1).T\n",
        "    x_data_rep = given_data.repeat(1,1,num_samples).reshape(given_data_size,num_samples,-1)\n",
        "    prob_mx = torch.exp(std_normal.log_prob(mu - x_data_rep))\n",
        "\n",
        "    second_term = x_data_rep - mu\n",
        "    mu_update1 = torch.nanmean(prob_mx*second_term[:,:,0]/old_bottom, 0)\n",
        "    mu_update2 = torch.nanmean(prob_mx*second_term[:,:,1]/old_bottom, 0)\n",
        "    mu[:,0] = mu[:,0] + eta*mu_update1\n",
        "    mu[:,1] = mu[:,1] + eta*mu_update2\n",
        "\n",
        "    prob_mx_new = torch.transpose(torch.exp(std_normal.log_prob(mu - x_data_rep)), 0, 1)\n",
        "    new_bottom = get_p1_bottom_faster(wgt, given_data, mu).repeat(1,1,num_samples).reshape(num_samples,given_data_size)\n",
        "    wgt_update = torch.nanmean(prob_mx_new/new_bottom,1) - 1\n",
        "    wgt = wgt + eta*wgt_update*wgt\n",
        "    wgt = wgt/torch.sum(wgt)\n",
        "\n",
        "    L_n_loss = find_L_n_ver4(given_data, wgt, mu)\n",
        "    L_n_loss_list = np.append(L_n_loss_list, L_n_loss.to('cpu').data.numpy())\n",
        "\n",
        "    if t % 5 == 4:\n",
        "      print('trail:',trail_num, 'L_n :', L_n_loss.item() )\n",
        "\n",
        "  Ln_rho_k_list[trail_num,:] = L_n_loss_list"
      ]
    }
  ],
  "metadata": {
    "colab": {
      "provenance": [],
      "gpuType": "T4"
    },
    "kernelspec": {
      "display_name": "Python 3",
      "name": "python3"
    },
    "language_info": {
      "name": "python"
    },
    "accelerator": "GPU"
  },
  "nbformat": 4,
  "nbformat_minor": 0
}